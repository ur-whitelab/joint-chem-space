{
 "cells": [
  {
   "cell_type": "code",
   "execution_count": 9,
   "metadata": {},
   "outputs": [],
   "source": [
    "import sys\n",
    "import pandas as pd\n",
    "sys.path.append(\"..\")\n",
    "\n",
    "from chemspace.Dataset.DatasetBuilder import DatasetBuilder"
   ]
  },
  {
   "attachments": {},
   "cell_type": "markdown",
   "metadata": {},
   "source": [
    "Let's get the synonyms into one column of strings, although they must not be comma-separated, to avoid problems later in the week"
   ]
  },
  {
   "attachments": {},
   "cell_type": "markdown",
   "metadata": {},
   "source": [
    "Let's find the data"
   ]
  },
  {
   "cell_type": "code",
   "execution_count": 10,
   "metadata": {},
   "outputs": [
    {
     "data": {
      "text/html": [
       "<div>\n",
       "<style scoped>\n",
       "    .dataframe tbody tr th:only-of-type {\n",
       "        vertical-align: middle;\n",
       "    }\n",
       "\n",
       "    .dataframe tbody tr th {\n",
       "        vertical-align: top;\n",
       "    }\n",
       "\n",
       "    .dataframe thead th {\n",
       "        text-align: right;\n",
       "    }\n",
       "</style>\n",
       "<table border=\"1\" class=\"dataframe\">\n",
       "  <thead>\n",
       "    <tr style=\"text-align: right;\">\n",
       "      <th></th>\n",
       "      <th>CID</th>\n",
       "      <th>SMILES</th>\n",
       "    </tr>\n",
       "  </thead>\n",
       "  <tbody>\n",
       "    <tr>\n",
       "      <th>0</th>\n",
       "      <td>1</td>\n",
       "      <td>CC(=O)OC(CC(=O)[O-])C[N+](C)(C)C</td>\n",
       "    </tr>\n",
       "    <tr>\n",
       "      <th>1</th>\n",
       "      <td>3</td>\n",
       "      <td>C1=CC(C(C(=C1)C(=O)O)O)O</td>\n",
       "    </tr>\n",
       "    <tr>\n",
       "      <th>2</th>\n",
       "      <td>4</td>\n",
       "      <td>CC(CN)O</td>\n",
       "    </tr>\n",
       "    <tr>\n",
       "      <th>3</th>\n",
       "      <td>5</td>\n",
       "      <td>C(C(=O)COP(=O)(O)O)N</td>\n",
       "    </tr>\n",
       "    <tr>\n",
       "      <th>4</th>\n",
       "      <td>6</td>\n",
       "      <td>C1=CC(=C(C=C1[N+](=O)[O-])[N+](=O)[O-])Cl</td>\n",
       "    </tr>\n",
       "    <tr>\n",
       "      <th>...</th>\n",
       "      <td>...</td>\n",
       "      <td>...</td>\n",
       "    </tr>\n",
       "    <tr>\n",
       "      <th>327752</th>\n",
       "      <td>168010365</td>\n",
       "      <td>CC[C@@H](C)[C@H](C(=O)N1[C@H]2C[C@@H](CC[C@H]2...</td>\n",
       "    </tr>\n",
       "    <tr>\n",
       "      <th>327753</th>\n",
       "      <td>168010381</td>\n",
       "      <td>CCCC/C=C/C=C/CC1C(CC(=O)C2=C(C(=C)OC(=O)C2(O1)...</td>\n",
       "    </tr>\n",
       "    <tr>\n",
       "      <th>327754</th>\n",
       "      <td>168010385</td>\n",
       "      <td>CCCCC[C@@H]1CC(=NN(O1)C(=O)CCOC(=O)[C@H](C)OC(...</td>\n",
       "    </tr>\n",
       "    <tr>\n",
       "      <th>327755</th>\n",
       "      <td>168010395</td>\n",
       "      <td>CC[C@@H](C)[C@H](C(=O)N1[C@H]2C[C@@H](CC[C@H]2...</td>\n",
       "    </tr>\n",
       "    <tr>\n",
       "      <th>327756</th>\n",
       "      <td>168011857</td>\n",
       "      <td>COC1=CC(=CC2=C1C3=CC4=C(C=C3CC2)O[C@H]([C@@H]4...</td>\n",
       "    </tr>\n",
       "  </tbody>\n",
       "</table>\n",
       "<p>327757 rows × 2 columns</p>\n",
       "</div>"
      ],
      "text/plain": [
       "              CID                                             SMILES\n",
       "0               1                   CC(=O)OC(CC(=O)[O-])C[N+](C)(C)C\n",
       "1               3                           C1=CC(C(C(=C1)C(=O)O)O)O\n",
       "2               4                                            CC(CN)O\n",
       "3               5                               C(C(=O)COP(=O)(O)O)N\n",
       "4               6          C1=CC(=C(C=C1[N+](=O)[O-])[N+](=O)[O-])Cl\n",
       "...           ...                                                ...\n",
       "327752  168010365  CC[C@@H](C)[C@H](C(=O)N1[C@H]2C[C@@H](CC[C@H]2...\n",
       "327753  168010381  CCCC/C=C/C=C/CC1C(CC(=O)C2=C(C(=C)OC(=O)C2(O1)...\n",
       "327754  168010385  CCCCC[C@@H]1CC(=NN(O1)C(=O)CCOC(=O)[C@H](C)OC(...\n",
       "327755  168010395  CC[C@@H](C)[C@H](C(=O)N1[C@H]2C[C@@H](CC[C@H]2...\n",
       "327756  168011857  COC1=CC(=CC2=C1C3=CC4=C(C=C3CC2)O[C@H]([C@@H]4...\n",
       "\n",
       "[327757 rows x 2 columns]"
      ]
     },
     "execution_count": 10,
     "metadata": {},
     "output_type": "execute_result"
    }
   ],
   "source": [
    "# Instantiate class with previously generated Dataframe (CSV)\n",
    "DB = DatasetBuilder(compound_file_path='../chemspace/Dataset/Data/Dataset.csv')\n",
    "#DB = DatasetBuilder(compound_file_path='../chemspace/Dataset/Data/CIDs.csv')\n",
    "# Display dataset\n",
    "DB.CIDs\n",
    "DB.dataset"
   ]
  },
  {
   "cell_type": "code",
   "execution_count": 28,
   "metadata": {},
   "outputs": [
    {
     "name": "stdout",
     "output_type": "stream",
     "text": [
      "100007042\n"
     ]
    }
   ],
   "source": [
    "import gzip\n",
    "content = {\n",
    "    \"CID\": [],\n",
    "    \"Synonym\": []\n",
    "}\n",
    "with gzip.open('../chemspace/Dataset/Data/CID-Synonym-filtered.gz', 'rt') as zipfile:\n",
    "    for i, line in enumerate(zipfile):\n",
    "        CID, synonym = line.split()[0], \" \".join(line.split()[1:])\n",
    "        content['CID'].append(int(CID))\n",
    "        content['Synonym'].append(synonym)\n",
    "print(len(content['CID']))"
   ]
  },
  {
   "cell_type": "code",
   "execution_count": 29,
   "metadata": {},
   "outputs": [
    {
     "data": {
      "text/html": [
       "<div>\n",
       "<style scoped>\n",
       "    .dataframe tbody tr th:only-of-type {\n",
       "        vertical-align: middle;\n",
       "    }\n",
       "\n",
       "    .dataframe tbody tr th {\n",
       "        vertical-align: top;\n",
       "    }\n",
       "\n",
       "    .dataframe thead th {\n",
       "        text-align: right;\n",
       "    }\n",
       "</style>\n",
       "<table border=\"1\" class=\"dataframe\">\n",
       "  <thead>\n",
       "    <tr style=\"text-align: right;\">\n",
       "      <th></th>\n",
       "      <th>CID</th>\n",
       "      <th>Synonym</th>\n",
       "    </tr>\n",
       "  </thead>\n",
       "  <tbody>\n",
       "    <tr>\n",
       "      <th>0</th>\n",
       "      <td>1</td>\n",
       "      <td>(+/-)-acetylcarnitine</td>\n",
       "    </tr>\n",
       "    <tr>\n",
       "      <th>1</th>\n",
       "      <td>1</td>\n",
       "      <td>(3-CARBOXY-2-HYDROXYPROPYL)TRIMETHYLAMMONIUM H...</td>\n",
       "    </tr>\n",
       "    <tr>\n",
       "      <th>2</th>\n",
       "      <td>1</td>\n",
       "      <td>07OP6H4V4A</td>\n",
       "    </tr>\n",
       "    <tr>\n",
       "      <th>3</th>\n",
       "      <td>1</td>\n",
       "      <td>1-Propanaminium, 2-(acetoxy)-3-carboxy-N,N,N-t...</td>\n",
       "    </tr>\n",
       "    <tr>\n",
       "      <th>4</th>\n",
       "      <td>1</td>\n",
       "      <td>1-Propanaminium, 2-(acetoxy)-3-carboxy-N,N,N-t...</td>\n",
       "    </tr>\n",
       "  </tbody>\n",
       "</table>\n",
       "</div>"
      ],
      "text/plain": [
       "   CID                                            Synonym\n",
       "0    1                              (+/-)-acetylcarnitine\n",
       "1    1  (3-CARBOXY-2-HYDROXYPROPYL)TRIMETHYLAMMONIUM H...\n",
       "2    1                                         07OP6H4V4A\n",
       "3    1  1-Propanaminium, 2-(acetoxy)-3-carboxy-N,N,N-t...\n",
       "4    1  1-Propanaminium, 2-(acetoxy)-3-carboxy-N,N,N-t..."
      ]
     },
     "execution_count": 29,
     "metadata": {},
     "output_type": "execute_result"
    }
   ],
   "source": [
    "syn_DF = pd.DataFrame(content)\n",
    "syn_DF.head()"
   ]
  },
  {
   "cell_type": "code",
   "execution_count": 30,
   "metadata": {},
   "outputs": [],
   "source": [
    "syn_DF = syn_DF.groupby('CID')['Synonym'].apply('; '.join).reset_index()\n",
    "syn_DF['Number_of_Synonyms'] = syn_DF['Synonym'].apply(lambda x: len(x.split('; ')))"
   ]
  },
  {
   "cell_type": "code",
   "execution_count": 38,
   "metadata": {},
   "outputs": [
    {
     "data": {
      "text/plain": [
       "58001485"
      ]
     },
     "execution_count": 38,
     "metadata": {},
     "output_type": "execute_result"
    }
   ],
   "source": [
    "len(syn_DF['CID'])"
   ]
  },
  {
   "cell_type": "code",
   "execution_count": 35,
   "metadata": {},
   "outputs": [],
   "source": [
    "syn_DF.to_csv('../chemspace/Dataset/Data/CID-Synonym-filtered.tsv', sep='\\t', index=False)"
   ]
  },
  {
   "cell_type": "code",
   "execution_count": 8,
   "metadata": {},
   "outputs": [],
   "source": [
    "def add_SMILES(self, data_path: str = '../chemspace/Dataset/Data/CID-SMILES.gz'):\n",
    "        concat_df = pd.DataFrame()\n",
    "        \n",
    "        # create object to iterate through CSV chunks\n",
    "        data_reader = pd.read_csv(data_path, chunksize= 10 ** 6, sep= \"\\t\", names = ['CID', 'SMILES'])\n",
    "        \n",
    "        # Initialize counter and \n",
    "        i = 0\n",
    "\n",
    "        # Iterate through df chunks\n",
    "        for df in data_reader:\n",
    "            # Display progress\n",
    "            if i % 5 == 0:\n",
    "                print(i)\n",
    "\n",
    "            # if the lowest CID of the chunk is greater than the largest CID we're interested in, then stop\n",
    "            if df['CID'].iloc[0] > self.CIDs.iloc[-1]:\n",
    "                return\n",
    "            # Otherwise, merge the CIDs and SMILES chunk dataframes, and concat. Store as dataset\n",
    "            elif self._external_CIDs_in_dataset(df['CID']):\n",
    "                merged_df = self.CIDs.to_frame().merge(df, how='inner', left_on = 'CID', right_on='CID', suffixes= (None,'_y'))\n",
    "                concat_df = pd.concat([concat_df, merged_df], axis = 0, ignore_index=True)\n",
    "            \n",
    "            # Advance counter\n",
    "            i = i + 1\n",
    "            self.dataset = concat_df\n",
    "        return"
   ]
  },
  {
   "cell_type": "code",
   "execution_count": 9,
   "metadata": {},
   "outputs": [
    {
     "name": "stdout",
     "output_type": "stream",
     "text": [
      "<class 'pandas.core.frame.DataFrame'>\n",
      "RangeIndex: 5524 entries, 0 to 5523\n",
      "Data columns (total 3 columns):\n",
      " #   Column              Non-Null Count  Dtype \n",
      "---  ------              --------------  ----- \n",
      " 0   CID                 5524 non-null   int64 \n",
      " 1   Synonyms            5524 non-null   object\n",
      " 2   Number_of_Synonyms  5524 non-null   int64 \n",
      "dtypes: int64(2), object(1)\n",
      "memory usage: 129.6+ KB\n"
     ]
    }
   ],
   "source": [
    "df_grouped.info()"
   ]
  },
  {
   "cell_type": "code",
   "execution_count": 10,
   "metadata": {},
   "outputs": [
    {
     "name": "stdout",
     "output_type": "stream",
     "text": [
      "<class 'pandas.core.frame.DataFrame'>\n",
      "RangeIndex: 327757 entries, 0 to 327756\n",
      "Data columns (total 2 columns):\n",
      " #   Column  Non-Null Count   Dtype \n",
      "---  ------  --------------   ----- \n",
      " 0   CID     327757 non-null  int64 \n",
      " 1   SMILES  327757 non-null  object\n",
      "dtypes: int64(1), object(1)\n",
      "memory usage: 5.0+ MB\n"
     ]
    }
   ],
   "source": [
    "# Load df\n",
    "df = pd.read_csv('../chemspace/Dataset/Data/Dataset.csv')\n",
    "df.info()"
   ]
  },
  {
   "cell_type": "code",
   "execution_count": 11,
   "metadata": {},
   "outputs": [
    {
     "name": "stdout",
     "output_type": "stream",
     "text": [
      "       CID                                         SMILES  \\\n",
      "0        1               CC(=O)OC(CC(=O)[O-])C[N+](C)(C)C   \n",
      "1        3                       C1=CC(C(C(=C1)C(=O)O)O)O   \n",
      "2        4                                        CC(CN)O   \n",
      "3        5                           C(C(=O)COP(=O)(O)O)N   \n",
      "4        6      C1=CC(=C(C=C1[N+](=O)[O-])[N+](=O)[O-])Cl   \n",
      "...    ...                                            ...   \n",
      "3583  6658                                  CC(=C)C(=O)OC   \n",
      "3584  6659                                 COC(=O)C(=C)Cl   \n",
      "3585  6660                               CC1=C(C(=O)CC1)O   \n",
      "3586  6661                                  CN1CCN(C1=O)C   \n",
      "3587  6662  CC1=C(ON=C1C)N(C(=O)C)S(=O)(=O)C2=CC=C(C=C2)N   \n",
      "\n",
      "                                               Synonyms  Number_of_Synonyms  \n",
      "0     (+/-)-acetylcarnitine; (3-CARBOXY-2-HYDROXYPRO...                  38  \n",
      "1     100459-00-5; 2,3-dihydro-2,3-dihydroxybenzoic ...                   9  \n",
      "2     (+-)-1-amino-2-propanol; (+/-)-1-Amino-2-propa...                 122  \n",
      "3     (3-amino-2-oxopropyl) dihydrogen phosphate; 1-...                  11  \n",
      "4     1 - Chloro - 2,4 - dinitrobenzene; 1,3-Dinitro...                 101  \n",
      "...                                                 ...                 ...  \n",
      "3583  114512-63-9; 143476-91-9; 196OC77688; 2-(Metho...                 161  \n",
      "3584  2-chloro-acrylic acid methyl ester; 2-chloroac...                  49  \n",
      "3585  124221-30-3; 2 - hydroxy - 3 - methylcyclopent...                  60  \n",
      "3586  1, 3- dimethylimidazolidin- 2- one; 1,3-di-met...                  85  \n",
      "3587  80-74-0; A915833; Acetamide, N-((4-aminophenyl...                  44  \n",
      "\n",
      "[3588 rows x 4 columns]\n"
     ]
    }
   ],
   "source": [
    "\n",
    "# Assuming df and df_grouped are your dataframes\n",
    "\n",
    "# Initialize an empty dataframe to store the final result\n",
    "result = pd.DataFrame()\n",
    "\n",
    "# Number of rows to process at a time\n",
    "chunk_size = 1000\n",
    "\n",
    "# Iterate through the df_grouped dataframe in chunks\n",
    "for i in range(0, len(df_grouped), chunk_size):\n",
    "    # Get the current chunk from df_grouped\n",
    "    chunk = df_grouped.iloc[i:i + chunk_size]\n",
    "    \n",
    "    # Merge the chunk with df based on CID\n",
    "    merged_chunk = df.merge(chunk, how='inner', on='CID')\n",
    "    \n",
    "    # Append the merged chunk to the result dataframe\n",
    "    result = pd.concat([result, merged_chunk], ignore_index=True)\n",
    "\n",
    "# result dataframe now contains the merged data\n",
    "print(result)\n"
   ]
  },
  {
   "cell_type": "code",
   "execution_count": 7,
   "metadata": {},
   "outputs": [],
   "source": [
    "#write result to csv\n",
    "result.to_csv('../chemspace/Dataset/Data/Dataset-with-Synonyms.csv', index=False)"
   ]
  },
  {
   "cell_type": "code",
   "execution_count": 8,
   "metadata": {},
   "outputs": [
    {
     "name": "stdout",
     "output_type": "stream",
     "text": [
      "<class 'pandas.core.frame.DataFrame'>\n",
      "RangeIndex: 250097 entries, 0 to 250096\n",
      "Data columns (total 4 columns):\n",
      " #   Column              Non-Null Count   Dtype \n",
      "---  ------              --------------   ----- \n",
      " 0   CID                 250097 non-null  int64 \n",
      " 1   SMILES              250097 non-null  object\n",
      " 2   Synonyms            250097 non-null  object\n",
      " 3   Number_of_Synonyms  250097 non-null  int64 \n",
      "dtypes: int64(2), object(2)\n",
      "memory usage: 7.6+ MB\n"
     ]
    }
   ],
   "source": [
    "result.info()"
   ]
  },
  {
   "cell_type": "code",
   "execution_count": 9,
   "metadata": {},
   "outputs": [
    {
     "data": {
      "text/html": [
       "<div>\n",
       "<style scoped>\n",
       "    .dataframe tbody tr th:only-of-type {\n",
       "        vertical-align: middle;\n",
       "    }\n",
       "\n",
       "    .dataframe tbody tr th {\n",
       "        vertical-align: top;\n",
       "    }\n",
       "\n",
       "    .dataframe thead th {\n",
       "        text-align: right;\n",
       "    }\n",
       "</style>\n",
       "<table border=\"1\" class=\"dataframe\">\n",
       "  <thead>\n",
       "    <tr style=\"text-align: right;\">\n",
       "      <th></th>\n",
       "      <th>CID</th>\n",
       "      <th>SMILES</th>\n",
       "      <th>Synonyms</th>\n",
       "      <th>Number_of_Synonyms</th>\n",
       "    </tr>\n",
       "  </thead>\n",
       "  <tbody>\n",
       "    <tr>\n",
       "      <th>0</th>\n",
       "      <td>1</td>\n",
       "      <td>CC(=O)OC(CC(=O)[O-])C[N+](C)(C)C</td>\n",
       "      <td>(+/-)-acetylcarnitine| (3-CARBOXY-2-HYDROXYPRO...</td>\n",
       "      <td>38</td>\n",
       "    </tr>\n",
       "    <tr>\n",
       "      <th>1</th>\n",
       "      <td>3</td>\n",
       "      <td>C1=CC(C(C(=C1)C(=O)O)O)O</td>\n",
       "      <td>100459-00-5| 2,3-dihydro-2,3-dihydroxybenzoic ...</td>\n",
       "      <td>9</td>\n",
       "    </tr>\n",
       "    <tr>\n",
       "      <th>2</th>\n",
       "      <td>4</td>\n",
       "      <td>CC(CN)O</td>\n",
       "      <td>(+-)-1-amino-2-propanol| (+/-)-1-Amino-2-propa...</td>\n",
       "      <td>122</td>\n",
       "    </tr>\n",
       "    <tr>\n",
       "      <th>3</th>\n",
       "      <td>5</td>\n",
       "      <td>C(C(=O)COP(=O)(O)O)N</td>\n",
       "      <td>(3-amino-2-oxopropyl) dihydrogen phosphate| 1-...</td>\n",
       "      <td>11</td>\n",
       "    </tr>\n",
       "    <tr>\n",
       "      <th>4</th>\n",
       "      <td>6</td>\n",
       "      <td>C1=CC(=C(C=C1[N+](=O)[O-])[N+](=O)[O-])Cl</td>\n",
       "      <td>1 - Chloro - 2,4 - dinitrobenzene| 1,3-Dinitro...</td>\n",
       "      <td>101</td>\n",
       "    </tr>\n",
       "  </tbody>\n",
       "</table>\n",
       "</div>"
      ],
      "text/plain": [
       "   CID                                     SMILES  \\\n",
       "0    1           CC(=O)OC(CC(=O)[O-])C[N+](C)(C)C   \n",
       "1    3                   C1=CC(C(C(=C1)C(=O)O)O)O   \n",
       "2    4                                    CC(CN)O   \n",
       "3    5                       C(C(=O)COP(=O)(O)O)N   \n",
       "4    6  C1=CC(=C(C=C1[N+](=O)[O-])[N+](=O)[O-])Cl   \n",
       "\n",
       "                                            Synonyms  Number_of_Synonyms  \n",
       "0  (+/-)-acetylcarnitine| (3-CARBOXY-2-HYDROXYPRO...                  38  \n",
       "1  100459-00-5| 2,3-dihydro-2,3-dihydroxybenzoic ...                   9  \n",
       "2  (+-)-1-amino-2-propanol| (+/-)-1-Amino-2-propa...                 122  \n",
       "3  (3-amino-2-oxopropyl) dihydrogen phosphate| 1-...                  11  \n",
       "4  1 - Chloro - 2,4 - dinitrobenzene| 1,3-Dinitro...                 101  "
      ]
     },
     "execution_count": 9,
     "metadata": {},
     "output_type": "execute_result"
    }
   ],
   "source": [
    "result.head()"
   ]
  }
 ],
 "metadata": {
  "kernelspec": {
   "display_name": "joint_chem_env",
   "language": "python",
   "name": "python3"
  },
  "language_info": {
   "codemirror_mode": {
    "name": "ipython",
    "version": 3
   },
   "file_extension": ".py",
   "mimetype": "text/x-python",
   "name": "python",
   "nbconvert_exporter": "python",
   "pygments_lexer": "ipython3",
   "version": "3.11.3"
  },
  "orig_nbformat": 4
 },
 "nbformat": 4,
 "nbformat_minor": 2
}
