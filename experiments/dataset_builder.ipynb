{
 "cells": [
  {
   "cell_type": "code",
   "execution_count": 1,
   "metadata": {},
   "outputs": [],
   "source": [
    "import sys\n",
    "import pandas as pd\n",
    "sys.path.append(\"..\")\n",
    "\n",
    "import chemspace as cs\n",
    "from chemspace.Dataset.DatasetBuilder import DatasetBuilder"
   ]
  },
  {
   "cell_type": "code",
   "execution_count": 2,
   "metadata": {},
   "outputs": [],
   "source": [
    "# Instantiate class with json file form PubChem\n",
    "DB = DatasetBuilder(compound_file_path='../chemspace/Dataset/Data/PubChem_compound_list_records.json.gz')\n",
    "\n",
    "# Display dataset\n",
    "DB.dataset\n",
    "\n",
    "# Save as .CSV\n",
    "DB.dataset.to_csv('../chemspace/Dataset/Data/CompoundDataset.csv', index = True)"
   ]
  },
  {
   "cell_type": "code",
   "execution_count": 2,
   "metadata": {},
   "outputs": [
    {
     "data": {
      "text/html": [
       "<div>\n",
       "<style scoped>\n",
       "    .dataframe tbody tr th:only-of-type {\n",
       "        vertical-align: middle;\n",
       "    }\n",
       "\n",
       "    .dataframe tbody tr th {\n",
       "        vertical-align: top;\n",
       "    }\n",
       "\n",
       "    .dataframe thead th {\n",
       "        text-align: right;\n",
       "    }\n",
       "</style>\n",
       "<table border=\"1\" class=\"dataframe\">\n",
       "  <thead>\n",
       "    <tr style=\"text-align: right;\">\n",
       "      <th></th>\n",
       "    </tr>\n",
       "  </thead>\n",
       "  <tbody>\n",
       "    <tr>\n",
       "      <th>1</th>\n",
       "    </tr>\n",
       "    <tr>\n",
       "      <th>4</th>\n",
       "    </tr>\n",
       "    <tr>\n",
       "      <th>6</th>\n",
       "    </tr>\n",
       "    <tr>\n",
       "      <th>9</th>\n",
       "    </tr>\n",
       "    <tr>\n",
       "      <th>12</th>\n",
       "    </tr>\n",
       "    <tr>\n",
       "      <th>...</th>\n",
       "    </tr>\n",
       "    <tr>\n",
       "      <th>168010239</th>\n",
       "    </tr>\n",
       "    <tr>\n",
       "      <th>168010263</th>\n",
       "    </tr>\n",
       "    <tr>\n",
       "      <th>168010365</th>\n",
       "    </tr>\n",
       "    <tr>\n",
       "      <th>168010385</th>\n",
       "    </tr>\n",
       "    <tr>\n",
       "      <th>168011857</th>\n",
       "    </tr>\n",
       "  </tbody>\n",
       "</table>\n",
       "<p>163879 rows × 0 columns</p>\n",
       "</div>"
      ],
      "text/plain": [
       "Empty DataFrame\n",
       "Columns: []\n",
       "Index: [1, 4, 6, 9, 12, 14, 16, 18, 20, 22, 28, 30, 33, 35, 38, 40, 44, 47, 49, 51, 53, 58, 61, 63, 65, 69, 71, 73, 75, 77, 79, 84, 86, 88, 91, 95, 98, 101, 104, 106, 108, 111, 116, 118, 121, 123, 125, 127, 129, 131, 133, 135, 138, 140, 149, 151, 153, 156, 158, 167, 172, 174, 176, 178, 180, 185, 187, 191, 193, 195, 197, 199, 203, 205, 207, 213, 216, 219, 221, 223, 225, 228, 231, 233, 236, 238, 240, 242, 244, 248, 250, 253, 255, 259, 261, 263, 265, 271, 274, 276, ...]\n",
       "\n",
       "[163879 rows x 0 columns]"
      ]
     },
     "execution_count": 2,
     "metadata": {},
     "output_type": "execute_result"
    }
   ],
   "source": [
    "# Instantiate class with previously generated Dataframe (CSV)\n",
    "DB = DatasetBuilder(compound_file_path='../chemspace/Dataset/Data/CompoundDataset.csv')\n",
    "\n",
    "# Display dataset\n",
    "DB.dataset"
   ]
  },
  {
   "cell_type": "code",
   "execution_count": null,
   "metadata": {},
   "outputs": [],
   "source": [
    "# Load df\n",
    "df = pd.read_csv('../chemspace/Dataset/Data/CompoundDataset.csv', index_col='Unnamed: 0')\n",
    "\n",
    "# Instantiate class with previously generated Dataframe\n",
    "DB = DatasetBuilder(compound_df=df)\n",
    "\n",
    "# Display dataset\n",
    "DB.dataset"
   ]
  }
 ],
 "metadata": {
  "kernelspec": {
   "display_name": "chemspace",
   "language": "python",
   "name": "python3"
  },
  "language_info": {
   "codemirror_mode": {
    "name": "ipython",
    "version": 3
   },
   "file_extension": ".py",
   "mimetype": "text/x-python",
   "name": "python",
   "nbconvert_exporter": "python",
   "pygments_lexer": "ipython3",
   "version": "3.11.4"
  },
  "orig_nbformat": 4
 },
 "nbformat": 4,
 "nbformat_minor": 2
}
