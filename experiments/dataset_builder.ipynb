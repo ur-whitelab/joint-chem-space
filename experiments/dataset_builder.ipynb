{
 "cells": [
  {
   "attachments": {},
   "cell_type": "markdown",
   "metadata": {},
   "source": [
    "# Notebook walking through constructing a Dataset with DatasetBuilder"
   ]
  },
  {
   "cell_type": "code",
   "execution_count": null,
   "metadata": {},
   "outputs": [],
   "source": [
    "import sys\n",
    "import pandas as pd\n",
    "sys.path.append(\"..\")\n",
    "import matplotlib.pyplot as plt\n",
    "from statistics import median, mean, stdev\n",
    "\n",
    "\n",
    "from chemspace.Dataset.DatasetBuilder import DatasetBuilder"
   ]
  },
  {
   "attachments": {},
   "cell_type": "markdown",
   "metadata": {},
   "source": [
    "# Step 1: Instantiate DataBuilder object"
   ]
  },
  {
   "attachments": {},
   "cell_type": "markdown",
   "metadata": {},
   "source": [
    "Dataset Builder Class can be instantiated one of 3 ways:\n",
    "1. From a Chemical Structures Records `.json.gz` file downloaded from PubChem's search function\n",
    "2. From a `.csv` file containing CIDs as the indices of the file\n",
    "3. From a previously constructed DataFrame that has CIDs of interest as the indices"
   ]
  },
  {
   "attachments": {},
   "cell_type": "markdown",
   "metadata": {},
   "source": [
    "### Method 1: \n",
    "Instantiate a DatasetBuilder object from a Chemical Structures Records `.json.gz` file downloaded from PubChem's search function"
   ]
  },
  {
   "cell_type": "code",
   "execution_count": null,
   "metadata": {},
   "outputs": [],
   "source": [
    "# Instantiate class with json file form PubChem\n",
    "DB = DatasetBuilder(compound_file_path='../chemspace/Dataset/Data/PubChem_compound_list_records.json.gz')\n",
    "\n",
    "# Save as .CSV\n",
    "DB.CIDs.to_csv('../chemspace/Dataset/Data/CIDs.csv', index = False)\n",
    "\n",
    "# Display dataset\n",
    "DB.CIDs"
   ]
  },
  {
   "attachments": {},
   "cell_type": "markdown",
   "metadata": {},
   "source": [
    "Add CIDS that were missing from shenchao group"
   ]
  },
  {
   "cell_type": "code",
   "execution_count": null,
   "metadata": {},
   "outputs": [],
   "source": [
    "sc = pd.read_csv('../chemspace/Dataset/Data/CID2SMILES-shengchao.csv')\n",
    "w = pd.read_csv('../chemspace/Dataset/Data/original_CIDs.csv')\n",
    "\n",
    "missing = sc['CID'].loc[~sc['CID'].isin(w['CID'])]\n",
    "missing.to_csv('../chemspace/Dataset/Data/missing_CIDs.csv', index=False)\n",
    "print(len(missing))"
   ]
  },
  {
   "cell_type": "code",
   "execution_count": null,
   "metadata": {},
   "outputs": [],
   "source": [
    "DB.CIDs = pd.merge(w, sc['CID'], left_on='CID', right_on='CID', how='outer', sort=True)\n",
    "print(len(DB.CIDs) == len(w) + len(missing))\n",
    "DB.CIDs.to_csv('../chemspace/Dataset/Data/CIDs.csv', index=False)"
   ]
  },
  {
   "attachments": {},
   "cell_type": "markdown",
   "metadata": {},
   "source": [
    "Add CIDs from S2R corpus"
   ]
  },
  {
   "cell_type": "code",
   "execution_count": null,
   "metadata": {},
   "outputs": [],
   "source": [
    "sr = pd.read_csv('../chemspace/Dataset/Data/s2rtext.csv')\n",
    "#sr.to_csv('../chemspace/Dataset/Data/s2rtext.csv', index=False)\n",
    "len(sr)"
   ]
  },
  {
   "cell_type": "code",
   "execution_count": null,
   "metadata": {},
   "outputs": [],
   "source": [
    "sr['CID'].head()\n",
    "org_len = len(DB.CIDs)\n",
    "DB.CIDs = pd.merge(DB.CIDs,sr['CID'],left_on='CID',right_on='CID',how='outer', sort=True)\n",
    "print(len(sr))\n",
    "print(len(DB.CIDs)-org_len)\n",
    "DB.CIDs.to_csv('../Chemspace/Dataset/Data/CIDs.csv',index=False)"
   ]
  },
  {
   "attachments": {},
   "cell_type": "markdown",
   "metadata": {},
   "source": [
    "### Method 2: \n",
    "Instantiate a DatasetBuilder object from a `.csv` or `.csv.gz` file containing CIDs as the indices of the file"
   ]
  },
  {
   "cell_type": "code",
   "execution_count": null,
   "metadata": {},
   "outputs": [],
   "source": [
    "# Instantiate class with previously generated Dataframe (CSV)\n",
    "DB = DatasetBuilder(compound_file_path='../chemspace/Dataset/Data/Dataset.csv.gz')\n",
    "# Display dataset\n",
    "DB.CIDs\n",
    "DB.dataset"
   ]
  },
  {
   "attachments": {},
   "cell_type": "markdown",
   "metadata": {},
   "source": [
    "### Method 3: \n",
    "Instantiate a DatasetBuilder object from a previously constructed DataFrame that has CIDs of interest as the indices"
   ]
  },
  {
   "cell_type": "code",
   "execution_count": null,
   "metadata": {},
   "outputs": [],
   "source": [
    "# Load df\n",
    "df = pd.read_csv('../chemspace/Dataset/Data/CIDs.csv')\n",
    "\n",
    "# Instantiate class with previously generated Dataframe\n",
    "DB = DatasetBuilder(compound_df=df)\n",
    "\n",
    "# Display dataset\n",
    "DB.CIDs"
   ]
  },
  {
   "attachments": {},
   "cell_type": "markdown",
   "metadata": {},
   "source": [
    "# Step 2: Add Data\n",
    "\n",
    "Data can be added to the dataset in any order  \n",
    "The cells below add different kinds of data to the dataset"
   ]
  },
  {
   "attachments": {},
   "cell_type": "markdown",
   "metadata": {},
   "source": [
    "### Data type 1: SMILES \n",
    "Add SMILES data to Dataset by using the `add_SMILES()` method"
   ]
  },
  {
   "cell_type": "code",
   "execution_count": null,
   "metadata": {},
   "outputs": [],
   "source": [
    "# Add data\n",
    "DB.add_SMILES()\n",
    "\n",
    "# Save as csv\n",
    "DB.dataset.to_csv('../chemspace/Dataset/Data/Dataset.csv', index=False)"
   ]
  },
  {
   "attachments": {},
   "cell_type": "markdown",
   "metadata": {},
   "source": [
    "### Data type 2: PubChem Textual Descriptions\n",
    "Add PubChem Text to Dataset by using the `add_pubchem_text()` method"
   ]
  },
  {
   "cell_type": "code",
   "execution_count": null,
   "metadata": {},
   "outputs": [],
   "source": [
    "# Add data\n",
    "DB.add_pubchem_text()\n",
    "\n",
    "# Save as csv\n",
    "DB.dataset.to_csv('../chemspace/Dataset/Data/Dataset.csv', index=False)"
   ]
  },
  {
   "cell_type": "code",
   "execution_count": null,
   "metadata": {},
   "outputs": [],
   "source": [
    "DB.add_s2r_text()"
   ]
  },
  {
   "attachments": {},
   "cell_type": "markdown",
   "metadata": {},
   "source": [
    "# Step 3: Clean the Dataset\n",
    "\n",
    "Remove the rows that have no description from the dataset by calling the `clean_dataset()` method"
   ]
  },
  {
   "cell_type": "code",
   "execution_count": null,
   "metadata": {},
   "outputs": [],
   "source": [
    "print(f\"{len(DB.dataset)} rows in dataset before cleaning\")\n",
    "DB.clean_dataset()\n",
    "print(f\"{len(DB.dataset)} rows in dataset after cleaning\")"
   ]
  },
  {
   "attachments": {},
   "cell_type": "markdown",
   "metadata": {},
   "source": [
    "# Dataset Metrics"
   ]
  },
  {
   "attachments": {},
   "cell_type": "markdown",
   "metadata": {},
   "source": [
    "Number of compounds represented"
   ]
  },
  {
   "cell_type": "code",
   "execution_count": null,
   "metadata": {},
   "outputs": [],
   "source": [
    "DB.dataset['TextLength'] = DB.dataset['AllText'].apply(lambda x: len(x.split(' ')) if isinstance(x,str) else 0 )"
   ]
  },
  {
   "cell_type": "code",
   "execution_count": null,
   "metadata": {},
   "outputs": [],
   "source": [
    "path = \"../chemspace/Dataset/Data/out.csv\"\n",
    "df = pd.read_csv(path, chunksize = 10 ** 6, names=['Name','CID','Description','PaperID'], usecols=['CID'])"
   ]
  },
  {
   "attachments": {},
   "cell_type": "markdown",
   "metadata": {},
   "source": [
    "Metrics for length of text descriptions gathered"
   ]
  },
  {
   "cell_type": "code",
   "execution_count": null,
   "metadata": {},
   "outputs": [],
   "source": [
    "DB.dataset['TextLength']\n",
    "print(max(DB.dataset['TextLength']))\n",
    "print(min(DB.dataset['TextLength']))\n",
    "print(median(DB.dataset['TextLength']))\n",
    "print(mean(DB.dataset['TextLength']))\n",
    "print(f\"Count over 5 {sum(DB.dataset['TextLength'] > 5)}\")\n",
    "print(f\"Count over 10 {sum(DB.dataset['TextLength'] > 10)}\")\n",
    "print(f\"Count over 15 {sum(DB.dataset['TextLength'] > 15)}\")\n",
    "print(f\"Count over 20 {sum(DB.dataset['TextLength'] > 20)}\")\n",
    "print(f\"Count over 30 {sum(DB.dataset['TextLength'] > 30)}\")"
   ]
  },
  {
   "cell_type": "code",
   "execution_count": null,
   "metadata": {},
   "outputs": [],
   "source": [
    "print(DB.dataset.loc[DB.dataset['TextLength']==1357]['CID'][540])"
   ]
  },
  {
   "cell_type": "code",
   "execution_count": null,
   "metadata": {},
   "outputs": [],
   "source": [
    "sum(DB.dataset['TextLength'] > 30)/len(DB.dataset)"
   ]
  },
  {
   "cell_type": "code",
   "execution_count": null,
   "metadata": {},
   "outputs": [],
   "source": [
    "histogram = plt.hist(DB.dataset['TextLength'], bins = range(0,200,5))\n",
    "\n",
    "plt.xlabel('Description Word Count')\n",
    "plt.ylabel('Number of Compunds')\n",
    "plt.title('Distribution of Desctiption Lengths')"
   ]
  },
  {
   "attachments": {},
   "cell_type": "markdown",
   "metadata": {},
   "source": [
    "Metrics for complexity of compounds represented: number of atoms"
   ]
  },
  {
   "cell_type": "code",
   "execution_count": null,
   "metadata": {},
   "outputs": [],
   "source": [
    "histogram = plt.hist(DB.dataset['NumAtoms'], bins = range(0,300,5))\n",
    "plt.xlabel('Number of atoms in compound')\n",
    "plt.ylabel('Count of Compounds')\n",
    "plt.title('Distribution of Compound Number of Atoms')\n",
    "\n",
    "\n",
    "print(max(DB.dataset['NumAtoms']))\n",
    "print(min(DB.dataset['NumAtoms']))\n",
    "print(median(DB.dataset['NumAtoms']))\n",
    "print(stdev(DB.dataset['NumAtoms'].dropna()))\n",
    "print(f\"Count over 15 {sum(DB.dataset['NumAtoms'] > 15)}\")\n",
    "print(f\"Count over 30 {sum(DB.dataset['NumAtoms'] > 30)}\")\n",
    "print(f\"Count over 45 {sum(DB.dataset['NumAtoms'] > 45)}\")\n",
    "print(f\"Count over 60 {sum(DB.dataset['NumAtoms'] > 60)}\")\n",
    "print(f\"Count over 75 {sum(DB.dataset['NumAtoms'] > 75)}\")"
   ]
  },
  {
   "cell_type": "code",
   "execution_count": null,
   "metadata": {},
   "outputs": [],
   "source": [
    "min_text_words = 10\n",
    "min_unique_atoms = 2\n",
    "\n",
    "len(DB.dataset.loc[(DB.dataset['TextLength']>min_text_words) & (DB.dataset['NumAtoms']>min_unique_atoms)])"
   ]
  }
 ],
 "metadata": {
  "kernelspec": {
   "display_name": "chemspace",
   "language": "python",
   "name": "python3"
  },
  "language_info": {
   "codemirror_mode": {
    "name": "ipython",
    "version": 3
   },
   "file_extension": ".py",
   "mimetype": "text/x-python",
   "name": "python",
   "nbconvert_exporter": "python",
   "pygments_lexer": "ipython3",
   "version": "3.11.4"
  },
  "orig_nbformat": 4
 },
 "nbformat": 4,
 "nbformat_minor": 2
}
