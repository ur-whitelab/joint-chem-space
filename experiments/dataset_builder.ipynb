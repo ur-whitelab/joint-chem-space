{
 "cells": [
  {
   "attachments": {},
   "cell_type": "markdown",
   "metadata": {},
   "source": [
    "Notebook walking through constructing a Dataset with DatasetBuilder"
   ]
  },
  {
   "cell_type": "code",
   "execution_count": 1,
   "metadata": {},
   "outputs": [],
   "source": [
    "import sys\n",
    "import pandas as pd\n",
    "sys.path.append(\"..\")\n",
    "\n",
    "from chemspace.Dataset.DatasetBuilder import DatasetBuilder"
   ]
  },
  {
   "attachments": {},
   "cell_type": "markdown",
   "metadata": {},
   "source": [
    "Dataset Builder Class can be instantiated one of 3 ways:\n",
    "1. From a Chemical Structures Records `.json.gz` file downloaded from PubChem's search function\n",
    "2. From a `.csv` file containing CIDs as the indices of the file\n",
    "3. From a previously constructed DataFrame that has CIDs of interest as the indices"
   ]
  },
  {
   "attachments": {},
   "cell_type": "markdown",
   "metadata": {},
   "source": [
    "Method 1: Instantiate a DatasetBuilder object from a Chemical Structures Records `.json.gz` file downloaded from PubChem's search function"
   ]
  },
  {
   "cell_type": "code",
   "execution_count": null,
   "metadata": {},
   "outputs": [],
   "source": [
    "# Instantiate class with json file form PubChem\n",
    "DB = DatasetBuilder(compound_file_path='../chemspace/Dataset/Data/PubChem_compound_list_records.json.gz')\n",
    "\n",
    "# Save as .CSV\n",
    "DB.CIDs.to_csv('../chemspace/Dataset/Data/CIDs.csv', index = False)\n",
    "\n",
    "# Display dataset\n",
    "DB.CIDs"
   ]
  },
  {
   "attachments": {},
   "cell_type": "markdown",
   "metadata": {},
   "source": [
    "Method 2: Instantiate a DatasetBuilder object from a `.csv` file containing CIDs as the indices of the file"
   ]
  },
  {
   "cell_type": "code",
   "execution_count": null,
   "metadata": {},
   "outputs": [],
   "source": [
    "# Instantiate class with previously generated Dataframe (CSV)\n",
    "DB = DatasetBuilder(compound_file_path='../chemspace/Dataset/Data/Dataset.csv')\n",
    "#DB = DatasetBuilder(compound_file_path='../chemspace/Dataset/Data/CIDs.csv')\n",
    "# Display dataset\n",
    "DB.CIDs\n",
    "DB.dataset"
   ]
  },
  {
   "attachments": {},
   "cell_type": "markdown",
   "metadata": {},
   "source": [
    "Method 3: Instantiate a DatasetBuilder object from a previously constructed DataFrame that has CIDs of interest as the indices"
   ]
  },
  {
   "cell_type": "code",
   "execution_count": 2,
   "metadata": {},
   "outputs": [
    {
     "data": {
      "text/plain": [
       "0                 1\n",
       "1                 3\n",
       "2                 4\n",
       "3                 5\n",
       "4                 6\n",
       "            ...    \n",
       "327752    168010365\n",
       "327753    168010381\n",
       "327754    168010385\n",
       "327755    168010395\n",
       "327756    168011857\n",
       "Name: CID, Length: 327757, dtype: int64"
      ]
     },
     "execution_count": 2,
     "metadata": {},
     "output_type": "execute_result"
    }
   ],
   "source": [
    "# Load df\n",
    "df = pd.read_csv('../chemspace/Dataset/Data/Dataset.csv')\n",
    "\n",
    "# Instantiate class with previously generated Dataframe\n",
    "DB = DatasetBuilder(compound_df=df)\n",
    "\n",
    "# Display dataset\n",
    "DB.CIDs"
   ]
  },
  {
   "cell_type": "code",
   "execution_count": 3,
   "metadata": {},
   "outputs": [
    {
     "name": "stdout",
     "output_type": "stream",
     "text": [
      "<class 'pandas.core.frame.DataFrame'>\n",
      "RangeIndex: 327757 entries, 0 to 327756\n",
      "Data columns (total 2 columns):\n",
      " #   Column  Non-Null Count   Dtype \n",
      "---  ------  --------------   ----- \n",
      " 0   CID     327757 non-null  int64 \n",
      " 1   SMILES  327757 non-null  object\n",
      "dtypes: int64(1), object(1)\n",
      "memory usage: 5.0+ MB\n"
     ]
    }
   ],
   "source": [
    "df.info()"
   ]
  },
  {
   "cell_type": "code",
   "execution_count": 4,
   "metadata": {},
   "outputs": [
    {
     "name": "stdout",
     "output_type": "stream",
     "text": [
      "0\n"
     ]
    },
    {
     "ename": "TypeError",
     "evalue": "'<' not supported between instances of 'numpy.ndarray' and 'str'",
     "output_type": "error",
     "traceback": [
      "\u001b[0;31m---------------------------------------------------------------------------\u001b[0m",
      "\u001b[0;31mTypeError\u001b[0m                                 Traceback (most recent call last)",
      "Cell \u001b[0;32mIn[4], line 3\u001b[0m\n\u001b[1;32m      1\u001b[0m \u001b[39m# DB = DatasetBuilder(compound_file_path='path_to_compound_file')\u001b[39;00m\n\u001b[1;32m      2\u001b[0m \u001b[39m# DB.add_SMILES(data_path='path_to_smiles_file')\u001b[39;00m\n\u001b[0;32m----> 3\u001b[0m DB\u001b[39m.\u001b[39;49madd_synonyms(synonyms_data_path\u001b[39m=\u001b[39;49m\u001b[39m'\u001b[39;49m\u001b[39m../chemspace/Dataset/Data/CID-Synonym-filtered.csv\u001b[39;49m\u001b[39m'\u001b[39;49m)\n",
      "File \u001b[0;32m~/ML/joint_chem_space/joint-chem-space/experiments/../chemspace/Dataset/DatasetBuilder.py:93\u001b[0m, in \u001b[0;36mDatasetBuilder.add_synonyms\u001b[0;34m(self, synonyms_data_path)\u001b[0m\n\u001b[1;32m     90\u001b[0m     \u001b[39mprint\u001b[39m(i)\n\u001b[1;32m     92\u001b[0m \u001b[39m# If the lowest CID of the chunk is greater than the largest CID we're interested in, then stop\u001b[39;00m\n\u001b[0;32m---> 93\u001b[0m \u001b[39mif\u001b[39;00m df[\u001b[39m'\u001b[39;49m\u001b[39mCID\u001b[39;49m\u001b[39m'\u001b[39;49m]\u001b[39m.\u001b[39;49miloc[\u001b[39m0\u001b[39;49m] \u001b[39m>\u001b[39;49m \u001b[39mself\u001b[39;49m\u001b[39m.\u001b[39;49mCIDs\u001b[39m.\u001b[39;49miloc[\u001b[39m20\u001b[39;49m]:\n\u001b[1;32m     94\u001b[0m \u001b[39m# if df['CID'].iloc[0] > 20:\u001b[39;00m\n\u001b[1;32m     95\u001b[0m     \u001b[39mreturn\u001b[39;00m\n\u001b[1;32m     97\u001b[0m \u001b[39m# Otherwise, merge the CIDs and Synonyms chunk dataframes, and concat. Store as dataset\u001b[39;00m\n",
      "\u001b[0;31mTypeError\u001b[0m: '<' not supported between instances of 'numpy.ndarray' and 'str'"
     ]
    }
   ],
   "source": [
    "# DB = DatasetBuilder(compound_file_path='path_to_compound_file')\n",
    "# DB.add_SMILES(data_path='path_to_smiles_file')\n",
    "DB.add_synonyms(synonyms_data_path='../chemspace/Dataset/Data/CID-Synonym-filtered.csv')\n"
   ]
  },
  {
   "cell_type": "code",
   "execution_count": null,
   "metadata": {},
   "outputs": [],
   "source": [
    "DB.add_SMILES()\n",
    "DB.dataset.to_csv('../chemspace/Dataset/Data/Dataset.csv', index=False)"
   ]
  },
  {
   "cell_type": "code",
   "execution_count": null,
   "metadata": {},
   "outputs": [],
   "source": [
    "DB.dataset"
   ]
  }
 ],
 "metadata": {
  "kernelspec": {
   "display_name": "chemspace",
   "language": "python",
   "name": "python3"
  },
  "language_info": {
   "codemirror_mode": {
    "name": "ipython",
    "version": 3
   },
   "file_extension": ".py",
   "mimetype": "text/x-python",
   "name": "python",
   "nbconvert_exporter": "python",
   "pygments_lexer": "ipython3",
   "version": "3.10.11"
  },
  "orig_nbformat": 4
 },
 "nbformat": 4,
 "nbformat_minor": 2
}
