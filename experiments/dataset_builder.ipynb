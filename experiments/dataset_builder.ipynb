{
 "cells": [
  {
   "attachments": {},
   "cell_type": "markdown",
   "metadata": {},
   "source": [
    "Notebook walking through constructing a Dataset with DatasetBuilder"
   ]
  },
  {
   "cell_type": "code",
   "execution_count": 4,
   "metadata": {},
   "outputs": [],
   "source": [
    "import sys\n",
    "import pandas as pd\n",
    "sys.path.append(\"..\")\n",
    "\n",
    "from chemspace.Dataset.DatasetBuilder import DatasetBuilder"
   ]
  },
  {
   "attachments": {},
   "cell_type": "markdown",
   "metadata": {},
   "source": [
    "Dataset Builder Class can be instantiated one of 3 ways:\n",
    "1. From a Chemical Structures Records `.json.gz` file downloaded from PubChem's search function\n",
    "2. From a `.csv` file containing CIDs as the indices of the file\n",
    "3. From a previously constructed DataFrame that has CIDs of interest as the indices"
   ]
  },
  {
   "attachments": {},
   "cell_type": "markdown",
   "metadata": {},
   "source": [
    "Method 1: Instantiate a DatasetBuilder object from a Chemical Structures Records `.json.gz` file downloaded from PubChem's search function"
   ]
  },
  {
   "cell_type": "code",
   "execution_count": 8,
   "metadata": {},
   "outputs": [],
   "source": [
    "# Instantiate class with json file form PubChem\n",
    "DB = DatasetBuilder(compound_file_path='../chemspace/Dataset/Data/PubChem_compound_list_records.json.gz')\n",
    "\n",
    "# Display dataset\n",
    "DB.dataset\n",
    "\n",
    "# Save as .CSV\n",
    "#DB.dataset.to_csv('../chemspace/Dataset/Data/CIDs.csv', index = True)"
   ]
  },
  {
   "attachments": {},
   "cell_type": "markdown",
   "metadata": {},
   "source": [
    "Method 2: Instantiate a DatasetBuilder object from a `.csv` file containing CIDs as the indices of the file"
   ]
  },
  {
   "cell_type": "code",
   "execution_count": 6,
   "metadata": {},
   "outputs": [
    {
     "data": {
      "text/html": [
       "<div>\n",
       "<style scoped>\n",
       "    .dataframe tbody tr th:only-of-type {\n",
       "        vertical-align: middle;\n",
       "    }\n",
       "\n",
       "    .dataframe tbody tr th {\n",
       "        vertical-align: top;\n",
       "    }\n",
       "\n",
       "    .dataframe thead th {\n",
       "        text-align: right;\n",
       "    }\n",
       "</style>\n",
       "<table border=\"1\" class=\"dataframe\">\n",
       "  <thead>\n",
       "    <tr style=\"text-align: right;\">\n",
       "      <th></th>\n",
       "    </tr>\n",
       "  </thead>\n",
       "  <tbody>\n",
       "    <tr>\n",
       "      <th>1</th>\n",
       "    </tr>\n",
       "    <tr>\n",
       "      <th>4</th>\n",
       "    </tr>\n",
       "    <tr>\n",
       "      <th>6</th>\n",
       "    </tr>\n",
       "    <tr>\n",
       "      <th>9</th>\n",
       "    </tr>\n",
       "    <tr>\n",
       "      <th>12</th>\n",
       "    </tr>\n",
       "    <tr>\n",
       "      <th>...</th>\n",
       "    </tr>\n",
       "    <tr>\n",
       "      <th>168010239</th>\n",
       "    </tr>\n",
       "    <tr>\n",
       "      <th>168010263</th>\n",
       "    </tr>\n",
       "    <tr>\n",
       "      <th>168010365</th>\n",
       "    </tr>\n",
       "    <tr>\n",
       "      <th>168010385</th>\n",
       "    </tr>\n",
       "    <tr>\n",
       "      <th>168011857</th>\n",
       "    </tr>\n",
       "  </tbody>\n",
       "</table>\n",
       "<p>163879 rows × 0 columns</p>\n",
       "</div>"
      ],
      "text/plain": [
       "Empty DataFrame\n",
       "Columns: []\n",
       "Index: [1, 4, 6, 9, 12, 14, 16, 18, 20, 22, 28, 30, 33, 35, 38, 40, 44, 47, 49, 51, 53, 58, 61, 63, 65, 69, 71, 73, 75, 77, 79, 84, 86, 88, 91, 95, 98, 101, 104, 106, 108, 111, 116, 118, 121, 123, 125, 127, 129, 131, 133, 135, 138, 140, 149, 151, 153, 156, 158, 167, 172, 174, 176, 178, 180, 185, 187, 191, 193, 195, 197, 199, 203, 205, 207, 213, 216, 219, 221, 223, 225, 228, 231, 233, 236, 238, 240, 242, 244, 248, 250, 253, 255, 259, 261, 263, 265, 271, 274, 276, ...]\n",
       "\n",
       "[163879 rows x 0 columns]"
      ]
     },
     "execution_count": 6,
     "metadata": {},
     "output_type": "execute_result"
    }
   ],
   "source": [
    "# Instantiate class with previously generated Dataframe (CSV)\n",
    "DB = DatasetBuilder(compound_file_path='../chemspace/Dataset/Data/CIDs.csv')\n",
    "\n",
    "# Display dataset\n",
    "DB.dataset"
   ]
  },
  {
   "attachments": {},
   "cell_type": "markdown",
   "metadata": {},
   "source": [
    "Method 3: Instantiate a DatasetBuilder object from a previously constructed DataFrame that has CIDs of interest as the indices"
   ]
  },
  {
   "cell_type": "code",
   "execution_count": 7,
   "metadata": {},
   "outputs": [
    {
     "data": {
      "text/html": [
       "<div>\n",
       "<style scoped>\n",
       "    .dataframe tbody tr th:only-of-type {\n",
       "        vertical-align: middle;\n",
       "    }\n",
       "\n",
       "    .dataframe tbody tr th {\n",
       "        vertical-align: top;\n",
       "    }\n",
       "\n",
       "    .dataframe thead th {\n",
       "        text-align: right;\n",
       "    }\n",
       "</style>\n",
       "<table border=\"1\" class=\"dataframe\">\n",
       "  <thead>\n",
       "    <tr style=\"text-align: right;\">\n",
       "      <th></th>\n",
       "    </tr>\n",
       "  </thead>\n",
       "  <tbody>\n",
       "    <tr>\n",
       "      <th>1</th>\n",
       "    </tr>\n",
       "    <tr>\n",
       "      <th>4</th>\n",
       "    </tr>\n",
       "    <tr>\n",
       "      <th>6</th>\n",
       "    </tr>\n",
       "    <tr>\n",
       "      <th>9</th>\n",
       "    </tr>\n",
       "    <tr>\n",
       "      <th>12</th>\n",
       "    </tr>\n",
       "    <tr>\n",
       "      <th>...</th>\n",
       "    </tr>\n",
       "    <tr>\n",
       "      <th>168010239</th>\n",
       "    </tr>\n",
       "    <tr>\n",
       "      <th>168010263</th>\n",
       "    </tr>\n",
       "    <tr>\n",
       "      <th>168010365</th>\n",
       "    </tr>\n",
       "    <tr>\n",
       "      <th>168010385</th>\n",
       "    </tr>\n",
       "    <tr>\n",
       "      <th>168011857</th>\n",
       "    </tr>\n",
       "  </tbody>\n",
       "</table>\n",
       "<p>163879 rows × 0 columns</p>\n",
       "</div>"
      ],
      "text/plain": [
       "Empty DataFrame\n",
       "Columns: []\n",
       "Index: [1, 4, 6, 9, 12, 14, 16, 18, 20, 22, 28, 30, 33, 35, 38, 40, 44, 47, 49, 51, 53, 58, 61, 63, 65, 69, 71, 73, 75, 77, 79, 84, 86, 88, 91, 95, 98, 101, 104, 106, 108, 111, 116, 118, 121, 123, 125, 127, 129, 131, 133, 135, 138, 140, 149, 151, 153, 156, 158, 167, 172, 174, 176, 178, 180, 185, 187, 191, 193, 195, 197, 199, 203, 205, 207, 213, 216, 219, 221, 223, 225, 228, 231, 233, 236, 238, 240, 242, 244, 248, 250, 253, 255, 259, 261, 263, 265, 271, 274, 276, ...]\n",
       "\n",
       "[163879 rows x 0 columns]"
      ]
     },
     "execution_count": 7,
     "metadata": {},
     "output_type": "execute_result"
    }
   ],
   "source": [
    "# Load df\n",
    "df = pd.read_csv('../chemspace/Dataset/Data/CIDs.csv', index_col='Unnamed: 0')\n",
    "\n",
    "# Instantiate class with previously generated Dataframe\n",
    "DB = DatasetBuilder(compound_df=df)\n",
    "\n",
    "# Display dataset\n",
    "DB.dataset"
   ]
  }
 ],
 "metadata": {
  "kernelspec": {
   "display_name": "chemspace",
   "language": "python",
   "name": "python3"
  },
  "language_info": {
   "codemirror_mode": {
    "name": "ipython",
    "version": 3
   },
   "file_extension": ".py",
   "mimetype": "text/x-python",
   "name": "python",
   "nbconvert_exporter": "python",
   "pygments_lexer": "ipython3",
   "version": "3.11.4"
  },
  "orig_nbformat": 4
 },
 "nbformat": 4,
 "nbformat_minor": 2
}
