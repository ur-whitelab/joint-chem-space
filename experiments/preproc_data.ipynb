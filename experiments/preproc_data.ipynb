{
 "cells": [
  {
   "cell_type": "code",
   "execution_count": null,
   "metadata": {},
   "outputs": [],
   "source": [
    "# Quick hack to import chemspace\n",
    "import sys\n",
    "sys.path.append(\"..\")\n",
    "\n",
    "import chemspace as cs\n",
    "\n",
    "import numpy as np\n",
    "import pandas as pd"
   ]
  },
  {
   "cell_type": "code",
   "execution_count": null,
   "metadata": {},
   "outputs": [],
   "source": [
    "dataset = pd.read_csv(\"../chemspace/Dataset/Data/Dataset.gz\")\n",
    "dataset = dataset[['SMILES', 'AllText']].dropna().reset_index(drop=True)\n",
    "dataset"
   ]
  },
  {
   "cell_type": "code",
   "execution_count": null,
   "metadata": {},
   "outputs": [],
   "source": [
    "names, smiless, descriptions = cs.download_compounds(1,2)#(2244-5, 2244+5)"
   ]
  },
  {
   "cell_type": "code",
   "execution_count": null,
   "metadata": {},
   "outputs": [],
   "source": [
    "def generate_df(start_cid, end_cid, path=None):\n",
    "    if path:\n",
    "        old_df = pd.read_csv(path)\n",
    "    names, smiless, descriptions = cs.download_compounds(start_cid, end_cid)\n",
    "    df = pd.DataFrame({\"Name\": names, \"SMILES\": smiless, \"Description\": descriptions})\n",
    "    df = df[df['Description'] != 'No description available.']\n",
    "    df['xyz'] = df['SMILES'].apply(lambda x: cs.get_3D_representation(x, representation='xyz'))\n",
    "    df['zmat'] = df['SMILES'].apply(lambda x: cs.get_zmat(x))\n",
    "    if path:\n",
    "        df = pd.concat([old_df, df])\n",
    "        df = df.drop_duplicates(subset=['SMILES'])\n",
    "    return df\n",
    "\n",
    "#2000\n",
    "df = generate_df(5000, 15000, '../chemspace/Dataset/Data/PubChem.csv')"
   ]
  },
  {
   "cell_type": "code",
   "execution_count": null,
   "metadata": {},
   "outputs": [],
   "source": [
    "df.to_csv('../chemspace/Dataset/Data/PubChem.csv', index=False)"
   ]
  },
  {
   "cell_type": "code",
   "execution_count": null,
   "metadata": {},
   "outputs": [],
   "source": [
    "df = pd.read_csv('../chemspace/Dataset/Data/PubChem.csv')\n",
    "df"
   ]
  },
  {
   "cell_type": "code",
   "execution_count": null,
   "metadata": {},
   "outputs": [],
   "source": [
    "import seaborn as sns\n",
    "df = pd.read_csv('../chemspace/Dataset/Data/PubChem.csv')\n",
    "sns.histplot(df['Description'].apply(lambda x: len(x.split())), bins=100)"
   ]
  },
  {
   "attachments": {},
   "cell_type": "markdown",
   "metadata": {},
   "source": [
    "# Old tests"
   ]
  },
  {
   "cell_type": "code",
   "execution_count": null,
   "metadata": {},
   "outputs": [],
   "source": [
    "smls=[\n",
    "    'CC(C)C1=CC=C(C=C1)C(C)C',\n",
    "    'CC(C)C1=CC=C(C=C1)C(C)C',\n",
    "    'CC(C)C1=CC=C(C=C1)C(C)C',\n",
    "    'CC(C)C1=CC=C(C=C1)C(C)C',\n",
    "    'CC(C)C1=CC=C(C=C1)C(C)C',\n",
    "]"
   ]
  },
  {
   "attachments": {},
   "cell_type": "markdown",
   "metadata": {},
   "source": [
    "## Using OpenBabel"
   ]
  },
  {
   "cell_type": "code",
   "execution_count": null,
   "metadata": {},
   "outputs": [],
   "source": [
    "# load smls in a pandas df\n",
    "df = pd.DataFrame(smls, columns=['smiles'])"
   ]
  },
  {
   "cell_type": "code",
   "execution_count": null,
   "metadata": {},
   "outputs": [],
   "source": [
    "m=pybel.readstring('smi', smls[0])\n",
    "m.OBMol.AddHydrogens()\n",
    "m.make3D()\n",
    "\n",
    "conv = openbabel.OBConversion()\n",
    "conv.SetOutFormat(\"gzmat\")\n",
    "\n",
    "print(conv.WriteString(m.OBMol))"
   ]
  },
  {
   "cell_type": "code",
   "execution_count": null,
   "metadata": {},
   "outputs": [],
   "source": [
    "conv = openbabel.OBConversion()\n",
    "conv.SetOutFormat(\"gzmat\")\n",
    "\n",
    "df['mol'] = df['smiles'].apply(lambda x: pybel.readstring('smi', x))\n",
    "\n",
    "#addH and make3D change the mol object and return None. So we need to use a dummy variable to get the return\n",
    "_ = df['mol'].apply(lambda x: x.OBMol.AddHydrogens())\n",
    "_ = df['mol'].apply(lambda x: x.make3D())\n",
    "\n",
    "# Compute xyz. Also accept pdb, sdf and gzmat\n",
    "df['xyz'] = df['mol'].apply(lambda x: conv.WriteString(x.OBMol))\n",
    "df"
   ]
  },
  {
   "cell_type": "code",
   "execution_count": null,
   "metadata": {},
   "outputs": [],
   "source": [
    "# use openbabel to convert smiles to 3D coordinates\n",
    "\n",
    "sml=smls[0]\n",
    "mol = pybel.readstring('smi', sml)\n",
    "mol.OBMol.AddHydrogens()\n",
    "mol.make3D()\n",
    "mol.write('sdf', 'obabel.sdf', overwrite=True)\n",
    "mol.write('pdb', 'obabel.pdb', overwrite=True)\n",
    "mol.write('xyz', 'obabel.xyz', overwrite=True)\n",
    "mol.write('gzmat', 'obabel.zmat', overwrite=True)\n",
    "mol"
   ]
  },
  {
   "attachments": {},
   "cell_type": "markdown",
   "metadata": {},
   "source": [
    "### compacting the gzmat"
   ]
  },
  {
   "cell_type": "code",
   "execution_count": null,
   "metadata": {},
   "outputs": [],
   "source": [
    "def replace_variables_in_zmatrix(gzmat):\n",
    "    lines = gzmat.split('\\n')\n",
    "\n",
    "    variables = {}\n",
    "    for line in lines:\n",
    "        if \"Variables:\" in line:\n",
    "            # Start of variables section\n",
    "            index = lines.index(line)\n",
    "            for variable_line in lines[index+1:]:\n",
    "                if not variable_line:\n",
    "                    continue\n",
    "                var_name, var_value = variable_line.split('=')\n",
    "                variables[var_name.strip()] = var_value.strip()\n",
    "\n",
    "    new_lines = []\n",
    "    for line in lines:\n",
    "        if \"Variables:\" in line:\n",
    "            # Start of variables section, end of file rewrite\n",
    "            break\n",
    "        for var_name, var_value in variables.items():\n",
    "            line = line.replace(var_name, var_value)\n",
    "        new_lines.append(line)\n",
    "    return '\\n'.join(new_lines)\n",
    "\n",
    "print(df['xyz'][0])\n",
    "print(replace_variables_in_zmatrix(df['xyz'][0]))"
   ]
  },
  {
   "cell_type": "code",
   "execution_count": null,
   "metadata": {},
   "outputs": [],
   "source": [
    "def replace_variables_in_zmatrix(filename):\n",
    "    with open(filename, 'r') as file:\n",
    "        lines = file.readlines()\n",
    "\n",
    "    variables = {}\n",
    "    for line in lines:\n",
    "        if \"Variables:\" in line:\n",
    "            # Start of variables section\n",
    "            index = lines.index(line)\n",
    "            for variable_line in lines[index+1:]:\n",
    "                if not variable_line:\n",
    "                    continue\n",
    "                var_name, var_value = variable_line[:-1].split('=')\n",
    "                variables[var_name.strip()] = var_value.strip()\n",
    "\n",
    "    with open(filename, 'w') as file:\n",
    "        for line in lines:\n",
    "            if \"Variables:\" in line:\n",
    "                # Start of variables section, end of file rewrite\n",
    "                break\n",
    "            for var_name, var_value in variables.items():\n",
    "                line = line.replace(var_name, var_value)\n",
    "            file.write(line)\n",
    "\n",
    "replace_variables_in_zmatrix(\"obabel.zmat\")"
   ]
  },
  {
   "attachments": {},
   "cell_type": "markdown",
   "metadata": {},
   "source": [
    "## Using RDKit"
   ]
  },
  {
   "cell_type": "code",
   "execution_count": null,
   "metadata": {},
   "outputs": [],
   "source": [
    "# load smls in a pandas df\n",
    "df = pd.DataFrame(smls, columns=['smiles'])"
   ]
  },
  {
   "cell_type": "code",
   "execution_count": null,
   "metadata": {},
   "outputs": [],
   "source": [
    "m = Chem.MolFromSmiles(smls[0])\n",
    "m = Chem.AddHs(m)\n",
    "AllChem.EmbedMolecule(m)\n",
    "AllChem.MMFFOptimizeMolecule(m)\n",
    "\n",
    "# confs = AllChem.EmbedMultipleConfs(m, numConfs=1)\n",
    "# conf = m.GetConformer(0)\n",
    "\n",
    "Chem.MolToPDBBlock(m)"
   ]
  },
  {
   "cell_type": "code",
   "execution_count": null,
   "metadata": {},
   "outputs": [],
   "source": [
    "df['mol'] = df['smiles'].apply(lambda x: Chem.MolFromSmiles(x))\n",
    "df['mol'] = df['mol'].apply(lambda x: Chem.AddHs(x))\n",
    "_ = df['mol'].apply(lambda x: AllChem.EmbedMolecule(x))\n",
    "\n",
    "# Compute xyz. Also support MolToPDBBlock. Writing sdf is a little different\n",
    "df['xyz'] = df['mol'].apply(lambda x: Chem.MolToXYZBlock(x))\n",
    "df"
   ]
  },
  {
   "cell_type": "code",
   "execution_count": null,
   "metadata": {},
   "outputs": [],
   "source": [
    "# SDWriter('-') writes to stdout\n",
    "with Chem.SDWriter('rdkit.sdf') as w:\n",
    "    for cid in range(m.GetNumConformers()):\n",
    "        print(cid)\n",
    "        m.SetProp('ID', f'{cid}')\n",
    "        w.write(m, confId=cid)\n",
    "\n",
    "Chem.MolToPDBFile(m, 'rdkit.pdb')\n",
    "Chem.MolToXYZFile(m, 'rdkit.xyz')\n"
   ]
  }
 ],
 "metadata": {
  "kernelspec": {
   "display_name": "Python 3",
   "language": "python",
   "name": "python3"
  },
  "language_info": {
   "codemirror_mode": {
    "name": "ipython",
    "version": 3
   },
   "file_extension": ".py",
   "mimetype": "text/x-python",
   "name": "python",
   "nbconvert_exporter": "python",
   "pygments_lexer": "ipython3",
   "version": "3.11.3"
  },
  "orig_nbformat": 4
 },
 "nbformat": 4,
 "nbformat_minor": 2
}
